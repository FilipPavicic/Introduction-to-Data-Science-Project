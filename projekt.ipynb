{
 "cells": [
  {
   "cell_type": "code",
   "execution_count": 1,
   "metadata": {},
   "outputs": [],
   "source": [
    "import gzip\n",
    "import numpy as np"
   ]
  },
  {
   "cell_type": "code",
   "execution_count": 3,
   "metadata": {},
   "outputs": [],
   "source": [
    "from sklearn.ensemble import RandomForestClassifier\n",
    "\n",
    "#tree_depth_size = [10,15,25]\n",
    "#metoda koja trenira Random Forest i vraća šumu (listu stabla)\n",
    "def createRandomForest(X,y,depth_size = 25):\n",
    "    clf = RandomForestClassifier(\n",
    "            n_estimators=100, max_features=\"sqrt\", max_depth=depth_size,\n",
    "            min_samples_split=5)\n",
    "\n",
    "    clf.fit(X,y)\n",
    "    forest = clf.estimators_\n",
    "    return forest"
   ]
  },
  {
   "cell_type": "code",
   "execution_count": 8,
   "metadata": {},
   "outputs": [],
   "source": [
    "def mapToIndexesLeaves(tree):\n",
    "    mapa = {}\n",
    "    counter = 0\n",
    "    mapa,counter = rekurzivno(tree,mapa,counter,0)\n",
    "    return mapa\n",
    "\n",
    "def rekurzivno(tree, mapa,counter,node):\n",
    "        if tree.children_left[node] == -1:\n",
    "            mapa[node] = counter\n",
    "            counter +=1\n",
    "            return mapa, counter\n",
    "        mapa, counter = rekurzivno(tree, mapa, counter, tree.children_left[node])\n",
    "        mapa, counter = rekurzivno(tree, mapa, counter, tree.children_right[node])\n",
    "        return mapa, counter\n"
   ]
  },
  {
   "cell_type": "code",
   "execution_count": 6,
   "metadata": {},
   "outputs": [],
   "source": [
    "from scipy.sparse import csr_matrix\n",
    "\n",
    "def leafIndexesOfLeaves(treeDecision,mapa, X, offset = 0):\n",
    "    return np.array([mapa[x] + offset for x in treeDecision.apply(X)])\n",
    "\n",
    "def createFI(X, forest, forestMap):\n",
    "    col = np.array([])\n",
    "    row = np.array([])\n",
    "    offset = 0\n",
    "    for i,(f,mapa) in enumerate(zip(forest,forestMap)):\n",
    "        indexes = leafIndexesOfLeaves(f,mapa, X,offset=offset)\n",
    "        col = np.concatenate((col,indexes))\n",
    "        row = np.concatenate((row,np.arange(0,X.shape[0])))\n",
    "        offset += len(mapa)\n",
    "    FI = csr_matrix(\n",
    "        (np.ones(col.shape,dtype=np.int8), (row, col)), shape=(X.shape[0],offset))\n",
    "    return FI"
   ]
  },
  {
   "cell_type": "code",
   "execution_count": 90,
   "metadata": {},
   "outputs": [],
   "source": [
    "from liblinear.liblinearutil import *\n",
    "\n",
    "def leafVectorOptimizator(X,y,s,c):\n",
    "    prob  = problem(y, X)\n",
    "    param = parameter('-s '+str(s)+' -c '+str(c)+' -q')\n",
    "    m = train(prob, param)\n",
    "    [W, _] = m.get_decfun()\n",
    "    return W,m\n",
    "def getScore(X,y,m):\n",
    "    _,score,_ = predict(y, X, m)\n",
    "    return score"
   ]
  },
  {
   "cell_type": "code",
   "execution_count": 9,
   "metadata": {},
   "outputs": [],
   "source": [
    "def getNeighbors(forest, forestMap,W):\n",
    "    neighbors = []\n",
    "    offset = 0\n",
    "    for i,(mapa,f) in enumerate(zip(forestMap,forest)):\n",
    "        prev_node_index = None\n",
    "        prev_leaf_index = None\n",
    "        for (node_index, leaf_index) in mapa.items():\n",
    "            if prev_node_index is None:\n",
    "                prev_node_index = node_index\n",
    "                prev_leaf_index = leaf_index\n",
    "                continue\n",
    "            \n",
    "            if f.tree_.children_right[prev_node_index - 1] == node_index:\n",
    "                singf = abs(W[offset + prev_leaf_index]) + abs (W[offset + leaf_index])\n",
    "                neighbors.append([singf,i,prev_node_index-1])\n",
    "                prev_node_index = None\n",
    "                prev_leaf_index = None\n",
    "                continue\n",
    "            prev_node_index = node_index\n",
    "            prev_leaf_index = leaf_index\n",
    "        offset += len(mapa)\n",
    "    return neighbors"
   ]
  },
  {
   "cell_type": "code",
   "execution_count": 10,
   "metadata": {},
   "outputs": [],
   "source": [
    "from sklearn.tree._tree import TREE_LEAF\n",
    "\n",
    "def pruneTrees(neighbors, forest,  pruneSize):\n",
    "    neighbors.sort(key = lambda x : x[0])\n",
    "    for _,f_index,parent in neighbors[:pruneSize]:\n",
    "        forest[f_index].tree_.children_left[parent] = TREE_LEAF\n",
    "        forest[f_index].tree_.children_right[parent] = TREE_LEAF"
   ]
  },
  {
   "cell_type": "code",
   "execution_count": 97,
   "metadata": {},
   "outputs": [],
   "source": [
    "problemTypes = {\n",
    "    \"classifation\":2,\n",
    "    \"regression\":11 \n",
    "}\n",
    "\n",
    "def refinedA(X_train,y_train, X_test, y_test,problemType,\n",
    "    iteration = 10, c = 1,depth_size_index = 2):\n",
    "    s = problemTypes[problemType]\n",
    "    bestScore = 0\n",
    "    bestM = None\n",
    "    tree_depth_size = [10,15,25]\n",
    "    forest = createRandomForest(X_train,y_train,tree_depth_size[depth_size_index])\n",
    "    counter = 0\n",
    "    while True:\n",
    "        forestMap = [mapToIndexesLeaves(f.tree_) for f in forest]\n",
    "        FI_train = createFI(X_train,forest,forestMap)\n",
    "        FI_test = createFI(X_test,forest,forestMap)\n",
    "        W, m = leafVectorOptimizator(FI_train,y_train, s, c)\n",
    "        score = getScore(FI_test,y_test, m)\n",
    "        if s == 2:\n",
    "            score = score[0]\n",
    "        else:\n",
    "            score = score[1]\n",
    "        print(\"iteracija: \" + str(counter) + \", score: \" + \n",
    "            str(score) +\", len(W): \"+ str(len(W)))\n",
    "\n",
    "        counter += 1\n",
    "        if score > bestScore:\n",
    "            bestScore = score\n",
    "            bestM = m\n",
    "\n",
    "        if counter > iteration:\n",
    "            break\n",
    "        neighbors = getNeighbors(forest, forestMap, W)\n",
    "        pruneTrees(neighbors, forest, int(len(W) * 0.1))\n",
    "    return bestM, bestScore\n",
    "\n",
    "#Treniramo model dok se broj listova u stablu \n",
    "# ne smanji na \"leafes_size\" početnog broja listova\n",
    "def refinedE(X_train,y_train, X_test, y_test,problemType,\n",
    "    leafes_size = 0.5, c = 1,depth_size_index = 2):\n",
    "    s = problemTypes[problemType]\n",
    "    bestScore = 0\n",
    "    bestM = None\n",
    "    tree_depth_size = [10,15,25]\n",
    "    forest = createRandomForest(X_train,y_train,tree_depth_size[depth_size_index])\n",
    "    size = 1\n",
    "    counter = 0\n",
    "    while True:\n",
    "        forestMap = [mapToIndexesLeaves(f.tree_) for f in forest]\n",
    "        FI_train = createFI(X_train,forest,forestMap)\n",
    "        FI_test = createFI(X_test,forest,forestMap)\n",
    "        W, m = leafVectorOptimizator(FI_train,y_train, s, c)\n",
    "        score = getScore(FI_test,y_test, m)\n",
    "        if s == 2:\n",
    "            score = score[0]\n",
    "        else:\n",
    "            score = score[1]\n",
    "        print(\"iteracija: \" + str(counter) + \", score: \" + \n",
    "            str(score) +\", len(W): \"+ str(len(W)))\n",
    "        size *= 0.9\n",
    "        if score > bestScore:\n",
    "            bestScore = score\n",
    "            bestM = m\n",
    "\n",
    "        if leafes_size > size:\n",
    "            break\n",
    "        neighbors = getNeighbors(forest, forestMap, W)\n",
    "        pruneTrees(neighbors, forest, int(len(W) * 0.1))\n",
    "    return bestM, bestScore"
   ]
  },
  {
   "cell_type": "markdown",
   "metadata": {},
   "source": [
    "## Klasifikacija MINIST seta "
   ]
  },
  {
   "cell_type": "code",
   "execution_count": 2,
   "metadata": {},
   "outputs": [],
   "source": [
    "#https://archive.ics.uci.edu/ml/datasets/covertype\n",
    "#http://yann.lecun.com/exdb/mnist/\n",
    "\n",
    "image_size = 28\n",
    "train_data_count = 60_000\n",
    "test_data_count = 10_000\n",
    "\n",
    "def readGzImages(path,number_of_images):\n",
    "    input_X = gzip.open(path,'r')\n",
    "    input_X.read(16)\n",
    "    buf_X = input_X.read(image_size * image_size * number_of_images)\n",
    "    X = np.frombuffer(buf_X, dtype=np.uint8).astype(np.float32)\n",
    "    X = X.reshape(number_of_images ,image_size * image_size)\n",
    "    return X\n",
    "\n",
    "def readGzLabels(path, number_of_labels):\n",
    "    input_y = gzip.open(path,'r')\n",
    "    input_y.read(8)\n",
    "    buf_y = input_y.read(1 * number_of_labels)\n",
    "    y = np.frombuffer(buf_y, dtype=np.uint8).astype(np.int32)\n",
    "    y = y.reshape(number_of_labels)\n",
    "    return y\n",
    "\n",
    "X = readGzImages('./MNIST_set/train-images-idx3-ubyte.gz', train_data_count)\n",
    "y = readGzLabels('./MNIST_set/train-labels-idx1-ubyte.gz', train_data_count)\n",
    "\n",
    "X_test = readGzImages('./MNIST_set/t10k-images-idx3-ubyte.gz', test_data_count)\n",
    "y_test = readGzLabels('./MNIST_set/t10k-labels-idx1-ubyte.gz', test_data_count)"
   ]
  },
  {
   "cell_type": "code",
   "execution_count": 1,
   "metadata": {},
   "outputs": [
    {
     "ename": "NameError",
     "evalue": "name 'refinedA' is not defined",
     "output_type": "error",
     "traceback": [
      "\u001b[1;31m---------------------------------------------------------------------------\u001b[0m",
      "\u001b[1;31mNameError\u001b[0m                                 Traceback (most recent call last)",
      "\u001b[1;32m<ipython-input-1-21ce996bc749>\u001b[0m in \u001b[0;36m<module>\u001b[1;34m\u001b[0m\n\u001b[1;32m----> 1\u001b[1;33m \u001b[0m_\u001b[0m\u001b[1;33m,\u001b[0m \u001b[0mscore\u001b[0m \u001b[1;33m=\u001b[0m \u001b[0mrefinedA\u001b[0m\u001b[1;33m(\u001b[0m\u001b[0mX\u001b[0m\u001b[1;33m,\u001b[0m\u001b[0my\u001b[0m\u001b[1;33m,\u001b[0m\u001b[0mX_test\u001b[0m\u001b[1;33m,\u001b[0m \u001b[0my_test\u001b[0m\u001b[1;33m,\u001b[0m\u001b[1;34m\"classifation\"\u001b[0m\u001b[1;33m,\u001b[0m\u001b[0miteration\u001b[0m\u001b[1;33m=\u001b[0m\u001b[1;36m10\u001b[0m\u001b[1;33m,\u001b[0m\u001b[1;33m)\u001b[0m\u001b[1;33m\u001b[0m\u001b[1;33m\u001b[0m\u001b[0m\n\u001b[0m\u001b[0;32m      2\u001b[0m \u001b[0mprint\u001b[0m\u001b[1;33m(\u001b[0m\u001b[1;34m\"Najbolja preciznost: \"\u001b[0m \u001b[1;33m+\u001b[0m \u001b[0mstr\u001b[0m\u001b[1;33m(\u001b[0m\u001b[0mscore\u001b[0m\u001b[1;33m)\u001b[0m\u001b[1;33m)\u001b[0m\u001b[1;33m\u001b[0m\u001b[1;33m\u001b[0m\u001b[0m\n",
      "\u001b[1;31mNameError\u001b[0m: name 'refinedA' is not defined"
     ]
    }
   ],
   "source": [
    "_, score = refinedA(X,y,X_test, y_test,\"classifation\",iteration=10,)\n",
    "print(\"Najbolja preciznost: \" + str(score))\n"
   ]
  },
  {
   "cell_type": "code",
   "execution_count": 65,
   "metadata": {},
   "outputs": [
    {
     "name": "stdout",
     "output_type": "stream",
     "text": [
      "Accuracy = 96.4% (4820/5000) (classification)\n",
      "iteracija: 0, score: 96.39999999999999, len(W): 143601\n",
      "Accuracy = 96.42% (4821/5000) (classification)\n",
      "iteracija: 0, score: 96.41999999999999, len(W): 129241\n",
      "Accuracy = 96.34% (4817/5000) (classification)\n",
      "iteracija: 0, score: 96.34, len(W): 116317\n",
      "Accuracy = 96.3% (4815/5000) (classification)\n",
      "iteracija: 0, score: 96.3, len(W): 104686\n",
      "Accuracy = 96.42% (4821/5000) (classification)\n",
      "iteracija: 0, score: 96.41999999999999, len(W): 94218\n",
      "Accuracy = 96.48% (4824/5000) (classification)\n",
      "iteracija: 0, score: 96.48, len(W): 84797\n",
      "Accuracy = 96.4% (4820/5000) (classification)\n",
      "iteracija: 0, score: 96.39999999999999, len(W): 76318\n",
      "Accuracy = 96.36% (4818/5000) (classification)\n",
      "iteracija: 0, score: 96.36, len(W): 68687\n",
      "Accuracy = 96.44% (4822/5000) (classification)\n",
      "iteracija: 0, score: 96.44, len(W): 61819\n",
      "Accuracy = 96.44% (4822/5000) (classification)\n",
      "iteracija: 0, score: 96.44, len(W): 55638\n",
      "Accuracy = 96.34% (4817/5000) (classification)\n",
      "iteracija: 0, score: 96.34, len(W): 50075\n",
      "Accuracy = 96.44% (4822/5000) (classification)\n",
      "iteracija: 0, score: 96.44, len(W): 45068\n",
      "Najbolja preciznost: 96.48\n"
     ]
    }
   ],
   "source": [
    "_, score = refinedE(X,y,X_test, y_test,\"classifation\",leafes_size=0.3,)\n",
    "print(\"Najbolja preciznost: \" + str(score))"
   ]
  },
  {
   "cell_type": "markdown",
   "metadata": {},
   "source": [
    "## Klasifikacija Letter seta"
   ]
  },
  {
   "cell_type": "code",
   "execution_count": 69,
   "metadata": {},
   "outputs": [],
   "source": [
    "from sklearn import preprocessing\n",
    "from sklearn.model_selection import train_test_split\n",
    "\n",
    "#https://archive.ics.uci.edu/ml/machine-learning-databases/letter-recognition/\n",
    "\n",
    "data = np.genfromtxt('./letter_set/letter-recognition.data', delimiter=',', dtype=np.str,encoding=\"utf8\")\n",
    "X = data[:,1:].astype('int32')\n",
    "y = data[:,0]\n",
    "\n",
    "le = preprocessing.LabelEncoder()\n",
    "le.fit(y)\n",
    "y = le.transform(y)\n",
    "X, X_test, y, y_test = train_test_split(X, y, test_size=0.25)"
   ]
  },
  {
   "cell_type": "code",
   "execution_count": 70,
   "metadata": {},
   "outputs": [
    {
     "name": "stdout",
     "output_type": "stream",
     "text": [
      "Accuracy = 96.04% (4802/5000) (classification)\n",
      "iteracija: 0, score: 96.04, len(W): 142894\n",
      "Accuracy = 96.06% (4803/5000) (classification)\n",
      "iteracija: 1, score: 96.06, len(W): 128605\n",
      "Accuracy = 95.98% (4799/5000) (classification)\n",
      "iteracija: 2, score: 95.98, len(W): 115745\n",
      "Accuracy = 95.94% (4797/5000) (classification)\n",
      "iteracija: 3, score: 95.94, len(W): 104171\n",
      "Accuracy = 96.1% (4805/5000) (classification)\n",
      "iteracija: 4, score: 96.1, len(W): 93754\n",
      "Accuracy = 96.12% (4806/5000) (classification)\n",
      "iteracija: 5, score: 96.12, len(W): 84379\n",
      "Accuracy = 96.02% (4801/5000) (classification)\n",
      "iteracija: 6, score: 96.02000000000001, len(W): 75942\n",
      "Accuracy = 95.94% (4797/5000) (classification)\n",
      "iteracija: 7, score: 95.94, len(W): 68348\n",
      "Accuracy = 95.98% (4799/5000) (classification)\n",
      "iteracija: 8, score: 95.98, len(W): 61514\n",
      "Accuracy = 95.96% (4798/5000) (classification)\n",
      "iteracija: 9, score: 95.96000000000001, len(W): 55363\n",
      "Accuracy = 95.74% (4787/5000) (classification)\n",
      "iteracija: 10, score: 95.74000000000001, len(W): 49827\n",
      "Najbolja preciznost: 96.12\n"
     ]
    }
   ],
   "source": [
    "_, score = refinedA(X,y,X_test, y_test,\"classifation\",iteration=10,)\n",
    "print(\"Najbolja preciznost: \" + str(score))\n"
   ]
  },
  {
   "cell_type": "code",
   "execution_count": 71,
   "metadata": {},
   "outputs": [
    {
     "name": "stdout",
     "output_type": "stream",
     "text": [
      "Accuracy = 96.2% (4810/5000) (classification)\n",
      "velicina: 1, score: 96.2, len(W): 142407\n",
      "Accuracy = 96.2% (4810/5000) (classification)\n",
      "velicina: 0.9, score: 96.2, len(W): 128167\n",
      "Accuracy = 96.22% (4811/5000) (classification)\n",
      "velicina: 0.81, score: 96.22, len(W): 115351\n",
      "Accuracy = 96.3% (4815/5000) (classification)\n",
      "velicina: 0.7290000000000001, score: 96.3, len(W): 103816\n",
      "Accuracy = 96.32% (4816/5000) (classification)\n",
      "velicina: 0.6561000000000001, score: 96.32, len(W): 93435\n",
      "Accuracy = 96.28% (4814/5000) (classification)\n",
      "velicina: 0.5904900000000002, score: 96.28, len(W): 84092\n",
      "Accuracy = 96.3% (4815/5000) (classification)\n",
      "velicina: 0.5314410000000002, score: 96.3, len(W): 75683\n",
      "Accuracy = 96.24% (4812/5000) (classification)\n",
      "velicina: 0.47829690000000014, score: 96.24000000000001, len(W): 68115\n",
      "Accuracy = 96.24% (4812/5000) (classification)\n",
      "velicina: 0.43046721000000016, score: 96.24000000000001, len(W): 61304\n",
      "Accuracy = 96.14% (4807/5000) (classification)\n",
      "velicina: 0.38742048900000015, score: 96.14, len(W): 55174\n",
      "Accuracy = 96.12% (4806/5000) (classification)\n",
      "velicina: 0.34867844010000015, score: 96.12, len(W): 49657\n",
      "Accuracy = 95.94% (4797/5000) (classification)\n",
      "velicina: 0.31381059609000017, score: 95.94, len(W): 44692\n",
      "Najbolja preciznost: 96.32\n"
     ]
    }
   ],
   "source": [
    "_, score = refinedE(X,y,X_test, y_test,\"classifation\",leafes_size=0.3,)\n",
    "print(\"Najbolja preciznost: \" + str(score))"
   ]
  },
  {
   "cell_type": "markdown",
   "metadata": {},
   "source": [
    "##  regresija CPUSMALL seta"
   ]
  },
  {
   "cell_type": "code",
   "execution_count": 76,
   "metadata": {},
   "outputs": [],
   "source": [
    "# https://www.csie.ntu.edu.tw/~cjlin/libsvmtools/datasets/regression.html\n",
    "data = np.genfromtxt('./cpusmall/cpusmall_scale.txt', delimiter=',',encoding=\"utf8\")\n",
    "X = data[:,1:]\n",
    "y = data[:,0]\n",
    "X, X_test, y, y_test = train_test_split(X, y, test_size=0.4)"
   ]
  },
  {
   "cell_type": "code",
   "execution_count": 91,
   "metadata": {},
   "outputs": [
    {
     "name": "stdout",
     "output_type": "stream",
     "text": [
      "Mean squared error = 39.2906 (regression)\n",
      "Squared correlation coefficient = 0.895588 (regression)\n",
      "iteracija: 0, score: 0.8955875041878025, len(W): 25932\n",
      "Mean squared error = 37.5573 (regression)\n",
      "Squared correlation coefficient = 0.89988 (regression)\n",
      "iteracija: 1, score: 0.8998802858206845, len(W): 23339\n",
      "Mean squared error = 35.0086 (regression)\n",
      "Squared correlation coefficient = 0.90631 (regression)\n",
      "iteracija: 2, score: 0.9063101177288384, len(W): 21006\n",
      "Mean squared error = 31.9924 (regression)\n",
      "Squared correlation coefficient = 0.913794 (regression)\n",
      "iteracija: 3, score: 0.9137935954967531, len(W): 18906\n",
      "Mean squared error = 28.8491 (regression)\n",
      "Squared correlation coefficient = 0.921812 (regression)\n",
      "iteracija: 4, score: 0.9218118234750702, len(W): 17016\n",
      "Mean squared error = 26.0391 (regression)\n",
      "Squared correlation coefficient = 0.928986 (regression)\n",
      "iteracija: 5, score: 0.9289862679530775, len(W): 15315\n",
      "Mean squared error = 23.0142 (regression)\n",
      "Squared correlation coefficient = 0.93671 (regression)\n",
      "iteracija: 6, score: 0.9367100542636476, len(W): 13784\n",
      "Mean squared error = 20.4312 (regression)\n",
      "Squared correlation coefficient = 0.943685 (regression)\n",
      "iteracija: 7, score: 0.9436852256110863, len(W): 12406\n",
      "Mean squared error = 18.1458 (regression)\n",
      "Squared correlation coefficient = 0.949759 (regression)\n",
      "iteracija: 8, score: 0.9497593824711784, len(W): 11166\n",
      "Mean squared error = 16.5442 (regression)\n",
      "Squared correlation coefficient = 0.953922 (regression)\n",
      "iteracija: 9, score: 0.9539215844254993, len(W): 10050\n",
      "Mean squared error = 15.1567 (regression)\n",
      "Squared correlation coefficient = 0.957599 (regression)\n",
      "iteracija: 10, score: 0.9575992973883587, len(W): 9045\n",
      "Mean squared error = 14.0002 (regression)\n",
      "Squared correlation coefficient = 0.960491 (regression)\n",
      "iteracija: 11, score: 0.9604912087497446, len(W): 8141\n",
      "Mean squared error = 13.0639 (regression)\n",
      "Squared correlation coefficient = 0.962906 (regression)\n",
      "iteracija: 12, score: 0.9629063199809261, len(W): 7327\n",
      "Mean squared error = 12.2706 (regression)\n",
      "Squared correlation coefficient = 0.965023 (regression)\n",
      "iteracija: 13, score: 0.9650226372336198, len(W): 6595\n",
      "Mean squared error = 11.7632 (regression)\n",
      "Squared correlation coefficient = 0.966436 (regression)\n",
      "iteracija: 14, score: 0.9664364285235861, len(W): 5936\n",
      "Mean squared error = 11.2499 (regression)\n",
      "Squared correlation coefficient = 0.967759 (regression)\n",
      "iteracija: 15, score: 0.967759114678394, len(W): 5343\n",
      "Mean squared error = 11.0462 (regression)\n",
      "Squared correlation coefficient = 0.968317 (regression)\n",
      "iteracija: 16, score: 0.9683172001155494, len(W): 4809\n",
      "Mean squared error = 10.943 (regression)\n",
      "Squared correlation coefficient = 0.968517 (regression)\n",
      "iteracija: 17, score: 0.9685168655658156, len(W): 4329\n",
      "Mean squared error = 10.6517 (regression)\n",
      "Squared correlation coefficient = 0.969342 (regression)\n",
      "iteracija: 18, score: 0.969341504394723, len(W): 3897\n",
      "Mean squared error = 10.6365 (regression)\n",
      "Squared correlation coefficient = 0.969296 (regression)\n",
      "iteracija: 19, score: 0.9692961301148296, len(W): 3508\n",
      "Mean squared error = 10.5051 (regression)\n",
      "Squared correlation coefficient = 0.969596 (regression)\n",
      "iteracija: 20, score: 0.969596454660375, len(W): 3158\n",
      "Najbolja preciznost: 0\n"
     ]
    }
   ],
   "source": [
    "_, score = refinedA(X,y,X_test, y_test,\"regression\",iteration=20,c = 0.01,depth_size_index=2)\n",
    "print(\"Najbolja preciznost: \" + str(score))"
   ]
  },
  {
   "cell_type": "code",
   "execution_count": 92,
   "metadata": {},
   "outputs": [
    {
     "name": "stdout",
     "output_type": "stream",
     "text": [
      "Mean squared error = 27.3473 (regression)\n",
      "Squared correlation coefficient = 0.930739 (regression)\n",
      "iteracija: 0, score: 0.9307391159964287, len(W): 115240\n",
      "Mean squared error = 23.0954 (regression)\n",
      "Squared correlation coefficient = 0.94095 (regression)\n",
      "iteracija: 0, score: 0.9409503676690726, len(W): 103716\n",
      "Mean squared error = 21.4512 (regression)\n",
      "Squared correlation coefficient = 0.943903 (regression)\n",
      "iteracija: 0, score: 0.943902590128311, len(W): 93345\n",
      "Mean squared error = 20.3237 (regression)\n",
      "Squared correlation coefficient = 0.945922 (regression)\n",
      "iteracija: 0, score: 0.9459221747713878, len(W): 84011\n",
      "Mean squared error = 18.2199 (regression)\n",
      "Squared correlation coefficient = 0.951041 (regression)\n",
      "iteracija: 0, score: 0.9510412422926204, len(W): 75610\n",
      "Mean squared error = 17.6039 (regression)\n",
      "Squared correlation coefficient = 0.952243 (regression)\n",
      "iteracija: 0, score: 0.9522425289092203, len(W): 68049\n",
      "Mean squared error = 17.622 (regression)\n",
      "Squared correlation coefficient = 0.951768 (regression)\n",
      "iteracija: 0, score: 0.9517676504972017, len(W): 61245\n",
      "Mean squared error = 16.4106 (regression)\n",
      "Squared correlation coefficient = 0.954292 (regression)\n",
      "iteracija: 0, score: 0.9542921689754899, len(W): 55121\n",
      "Mean squared error = 16.5118 (regression)\n",
      "Squared correlation coefficient = 0.95385 (regression)\n",
      "iteracija: 0, score: 0.9538500200823937, len(W): 49609\n",
      "Mean squared error = 15.8475 (regression)\n",
      "Squared correlation coefficient = 0.95522 (regression)\n",
      "iteracija: 0, score: 0.9552204263734654, len(W): 44649\n",
      "Mean squared error = 15.3962 (regression)\n",
      "Squared correlation coefficient = 0.956227 (regression)\n",
      "iteracija: 0, score: 0.9562267540075567, len(W): 40185\n",
      "Mean squared error = 16.0266 (regression)\n",
      "Squared correlation coefficient = 0.954356 (regression)\n",
      "iteracija: 0, score: 0.9543558416676267, len(W): 36167\n",
      "Najbolja preciznost: 0\n"
     ]
    }
   ],
   "source": [
    "_, score = refinedE(X,y,X_test, y_test,\"regression\",leafes_size=0.3,)\n",
    "print(\"Najbolja preciznost: \" + str(score))"
   ]
  },
  {
   "cell_type": "markdown",
   "metadata": {},
   "source": [
    "## Abalone reggresion set"
   ]
  },
  {
   "cell_type": "code",
   "execution_count": 93,
   "metadata": {},
   "outputs": [],
   "source": [
    "# https://www.csie.ntu.edu.tw/~cjlin/libsvmtools/datasets/regression.html\n",
    "data = np.genfromtxt('./abalone_set/abalone.txt', delimiter=',',encoding=\"utf8\")\n",
    "X = data[:,1:]\n",
    "y = data[:,0]\n",
    "X, X_test, y, y_test = train_test_split(X, y, test_size=0.4)"
   ]
  },
  {
   "cell_type": "code",
   "execution_count": 104,
   "metadata": {},
   "outputs": [
    {
     "name": "stdout",
     "output_type": "stream",
     "text": [
      "Mean squared error = 6.85881 (regression)\n",
      "Squared correlation coefficient = 0.497767 (regression)\n",
      "iteracija: 0, score: 6.858812982817409, len(W): 60728\n",
      "Mean squared error = 6.67283 (regression)\n",
      "Squared correlation coefficient = 0.50116 (regression)\n",
      "iteracija: 1, score: 6.672829328891643, len(W): 54656\n",
      "Mean squared error = 6.52107 (regression)\n",
      "Squared correlation coefficient = 0.502743 (regression)\n",
      "iteracija: 2, score: 6.521069663240621, len(W): 49191\n",
      "Mean squared error = 6.37414 (regression)\n",
      "Squared correlation coefficient = 0.50217 (regression)\n",
      "iteracija: 3, score: 6.374139135329044, len(W): 44272\n",
      "Mean squared error = 6.20235 (regression)\n",
      "Squared correlation coefficient = 0.506919 (regression)\n",
      "iteracija: 4, score: 6.202351797417601, len(W): 39845\n",
      "Mean squared error = 6.12033 (regression)\n",
      "Squared correlation coefficient = 0.50194 (regression)\n",
      "iteracija: 5, score: 6.120326327126437, len(W): 35861\n",
      "Mean squared error = 6.02148 (regression)\n",
      "Squared correlation coefficient = 0.499893 (regression)\n",
      "iteracija: 6, score: 6.021477698111172, len(W): 32275\n",
      "Mean squared error = 5.94418 (regression)\n",
      "Squared correlation coefficient = 0.496902 (regression)\n",
      "iteracija: 7, score: 5.944179434529957, len(W): 29048\n",
      "Mean squared error = 5.9356 (regression)\n",
      "Squared correlation coefficient = 0.493778 (regression)\n",
      "iteracija: 8, score: 5.935600245706197, len(W): 26144\n",
      "Mean squared error = 5.83352 (regression)\n",
      "Squared correlation coefficient = 0.496869 (regression)\n",
      "iteracija: 9, score: 5.833524984693043, len(W): 23530\n",
      "Mean squared error = 5.72203 (regression)\n",
      "Squared correlation coefficient = 0.499736 (regression)\n",
      "iteracija: 10, score: 5.722033721843535, len(W): 21177\n",
      "Najbolja preciznost: 0\n"
     ]
    }
   ],
   "source": [
    "_, score = refinedA(X,y,X_test, y_test,\"regression\",iteration=10,c = 0.01,depth_size_index=2)\n",
    "print(\"Najbolja preciznost: \" + str(score))"
   ]
  },
  {
   "cell_type": "code",
   "execution_count": 99,
   "metadata": {},
   "outputs": [
    {
     "name": "stdout",
     "output_type": "stream",
     "text": [
      "Mean squared error = 5.40909 (regression)\n",
      "Squared correlation coefficient = 0.509967 (regression)\n",
      "iteracija: 0, score: 5.409089426576987, len(W): 60891\n",
      "Mean squared error = 5.38249 (regression)\n",
      "Squared correlation coefficient = 0.510902 (regression)\n",
      "iteracija: 0, score: 5.382492664932072, len(W): 54802\n",
      "Mean squared error = 5.37784 (regression)\n",
      "Squared correlation coefficient = 0.509785 (regression)\n",
      "iteracija: 0, score: 5.37783546793041, len(W): 49322\n",
      "Mean squared error = 5.3359 (regression)\n",
      "Squared correlation coefficient = 0.513058 (regression)\n",
      "iteracija: 0, score: 5.335896764334138, len(W): 44390\n",
      "Mean squared error = 5.34769 (regression)\n",
      "Squared correlation coefficient = 0.510643 (regression)\n",
      "iteracija: 0, score: 5.347693778901994, len(W): 39951\n",
      "Mean squared error = 5.35039 (regression)\n",
      "Squared correlation coefficient = 0.509306 (regression)\n",
      "iteracija: 0, score: 5.350391035189264, len(W): 35956\n",
      "Mean squared error = 5.41993 (regression)\n",
      "Squared correlation coefficient = 0.503351 (regression)\n",
      "iteracija: 0, score: 5.419927143967309, len(W): 32361\n",
      "Mean squared error = 5.48401 (regression)\n",
      "Squared correlation coefficient = 0.497798 (regression)\n",
      "iteracija: 0, score: 5.484009946108091, len(W): 29125\n",
      "Mean squared error = 5.514 (regression)\n",
      "Squared correlation coefficient = 0.495503 (regression)\n",
      "iteracija: 0, score: 5.514000823973561, len(W): 26213\n",
      "Mean squared error = 5.5574 (regression)\n",
      "Squared correlation coefficient = 0.491183 (regression)\n",
      "iteracija: 0, score: 5.557396356631683, len(W): 23592\n",
      "Mean squared error = 5.68634 (regression)\n",
      "Squared correlation coefficient = 0.480779 (regression)\n",
      "iteracija: 0, score: 5.686336426089178, len(W): 21233\n",
      "Mean squared error = 5.75598 (regression)\n",
      "Squared correlation coefficient = 0.476611 (regression)\n",
      "iteracija: 0, score: 5.755984724958069, len(W): 19110\n",
      "Najbolja preciznost: 0\n"
     ]
    }
   ],
   "source": [
    "_, score = refinedE(X,y,X_test, y_test,\"regression\",leafes_size=0.3,)\n",
    "print(\"Najbolja preciznost: \" + str(score))"
   ]
  }
 ],
 "metadata": {
  "interpreter": {
   "hash": "f2575392019334285e0602a4035eec46b9260ee4c95297ea34ade6e3c8b8fcaf"
  },
  "kernelspec": {
   "display_name": "Python 3.8.10 64-bit",
   "language": "python",
   "name": "python3"
  },
  "language_info": {
   "codemirror_mode": {
    "name": "ipython",
    "version": 3
   },
   "file_extension": ".py",
   "mimetype": "text/x-python",
   "name": "python",
   "nbconvert_exporter": "python",
   "pygments_lexer": "ipython3",
   "version": "3.8.10"
  },
  "orig_nbformat": 4
 },
 "nbformat": 4,
 "nbformat_minor": 2
}
